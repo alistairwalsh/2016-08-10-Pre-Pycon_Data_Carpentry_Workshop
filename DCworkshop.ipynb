{
 "cells": [
  {
   "cell_type": "markdown",
   "metadata": {},
   "source": [
    "# Lists"
   ]
  },
  {
   "cell_type": "code",
   "execution_count": 10,
   "metadata": {
    "collapsed": false
   },
   "outputs": [
    {
     "name": "stdout",
     "output_type": "stream",
     "text": [
      "[0.2, 0.3, 0.4, 0.5]\n",
      "4\n"
     ]
    }
   ],
   "source": [
    "pressures = [0.2, 0.3, 0.4, 0.5]\n",
    "print(pressures)\n",
    "# Length of list - i.e how many elements?\n",
    "print(len(pressures))"
   ]
  },
  {
   "cell_type": "code",
   "execution_count": 9,
   "metadata": {
    "collapsed": false
   },
   "outputs": [
    {
     "name": "stdout",
     "output_type": "stream",
     "text": [
      "[1, 2, 'word', 'type', 3]\n"
     ]
    }
   ],
   "source": [
    "mixedlist = [1,2, 'word', 'type', 3]\n",
    "print(mixedlist)"
   ]
  },
  {
   "cell_type": "code",
   "execution_count": 12,
   "metadata": {
    "collapsed": false
   },
   "outputs": [
    {
     "data": {
      "text/plain": [
       "0.2"
      ]
     },
     "execution_count": 12,
     "metadata": {},
     "output_type": "execute_result"
    }
   ],
   "source": [
    "# retrieve the 1st element of the list\n",
    "pressures[0]"
   ]
  },
  {
   "cell_type": "code",
   "execution_count": 13,
   "metadata": {
    "collapsed": false
   },
   "outputs": [
    {
     "name": "stdout",
     "output_type": "stream",
     "text": [
      "0.4\n"
     ]
    }
   ],
   "source": [
    "print(pressures[2])"
   ]
  },
  {
   "cell_type": "code",
   "execution_count": 15,
   "metadata": {
    "collapsed": false
   },
   "outputs": [
    {
     "name": "stdout",
     "output_type": "stream",
     "text": [
      "[0.2, 0.3, 5, 0.5]\n"
     ]
    }
   ],
   "source": [
    "pressures[2] = 5\n",
    "print(pressures)"
   ]
  },
  {
   "cell_type": "code",
   "execution_count": 19,
   "metadata": {
    "collapsed": false
   },
   "outputs": [
    {
     "name": "stdout",
     "output_type": "stream",
     "text": [
      "[0.2, 0.3, 5, 0.5, 5]\n"
     ]
    }
   ],
   "source": [
    "pressures.append(5)\n",
    "print(pressures)\n"
   ]
  },
  {
   "cell_type": "code",
   "execution_count": 20,
   "metadata": {
    "collapsed": false
   },
   "outputs": [
    {
     "name": "stdout",
     "output_type": "stream",
     "text": [
      "[0.2, 0.3, 5, 0.5, 5, 5]\n"
     ]
    }
   ],
   "source": [
    "pressures.append(5)\n",
    "print(pressures)"
   ]
  },
  {
   "cell_type": "code",
   "execution_count": 21,
   "metadata": {
    "collapsed": false
   },
   "outputs": [
    {
     "name": "stdout",
     "output_type": "stream",
     "text": [
      "[0.2, 0.3, 5, 5, 5]\n"
     ]
    }
   ],
   "source": [
    "# remove an element\n",
    "del pressures[3]\n",
    "print(pressures)"
   ]
  },
  {
   "cell_type": "code",
   "execution_count": 23,
   "metadata": {
    "collapsed": false
   },
   "outputs": [
    {
     "name": "stdout",
     "output_type": "stream",
     "text": [
      "[]\n"
     ]
    }
   ],
   "source": [
    "emptylist = []\n",
    "print(emptylist)"
   ]
  },
  {
   "cell_type": "code",
   "execution_count": 24,
   "metadata": {
    "collapsed": false
   },
   "outputs": [
    {
     "name": "stdout",
     "output_type": "stream",
     "text": [
      "c\n",
      "b\n"
     ]
    }
   ],
   "source": [
    "element = 'carbon'\n",
    "print(element[0])\n",
    "print(element[3])"
   ]
  },
  {
   "cell_type": "code",
   "execution_count": 26,
   "metadata": {
    "collapsed": false
   },
   "outputs": [
    {
     "ename": "TypeError",
     "evalue": "'str' object does not support item assignment",
     "output_type": "error",
     "traceback": [
      "\u001b[0;31m---------------------------------------------------------------------------\u001b[0m",
      "\u001b[0;31mTypeError\u001b[0m                                 Traceback (most recent call last)",
      "\u001b[0;32m<ipython-input-26-c5a8e37ebd14>\u001b[0m in \u001b[0;36m<module>\u001b[0;34m()\u001b[0m\n\u001b[0;32m----> 1\u001b[0;31m \u001b[0melement\u001b[0m\u001b[0;34m[\u001b[0m\u001b[0;36m3\u001b[0m\u001b[0;34m]\u001b[0m \u001b[0;34m=\u001b[0m \u001b[0;34m'Z'\u001b[0m\u001b[0;34m\u001b[0m\u001b[0m\n\u001b[0m",
      "\u001b[0;31mTypeError\u001b[0m: 'str' object does not support item assignment"
     ]
    }
   ],
   "source": [
    "element[3] = 'Z'"
   ]
  },
  {
   "cell_type": "code",
   "execution_count": 27,
   "metadata": {
    "collapsed": false
   },
   "outputs": [
    {
     "name": "stdout",
     "output_type": "stream",
     "text": [
      "element[1:3] is: ar\n"
     ]
    }
   ],
   "source": [
    "# Slicing.\n",
    "print('element[1:3] is:', element[1:3])\n"
   ]
  },
  {
   "cell_type": "code",
   "execution_count": 28,
   "metadata": {
    "collapsed": true
   },
   "outputs": [],
   "source": [
    "thing = 'MyAmazingString'"
   ]
  },
  {
   "cell_type": "code",
   "execution_count": null,
   "metadata": {
    "collapsed": true
   },
   "outputs": [],
   "source": [
    "thing[low:high]\n",
    "thing[low:]\n",
    "thing[:high]\n",
    "thing[:]"
   ]
  },
  {
   "cell_type": "code",
   "execution_count": 30,
   "metadata": {
    "collapsed": false
   },
   "outputs": [
    {
     "name": "stdout",
     "output_type": "stream",
     "text": [
      "y\n",
      "yAmazingString\n",
      "My\n",
      "MyAmazingString\n"
     ]
    }
   ],
   "source": [
    "print(thing[1:2]) #y\n",
    "print(thing[1:]) #\n",
    "print(thing[:2])\n",
    "print(thing[:])\n",
    "# extra fun - try a negative number"
   ]
  },
  {
   "cell_type": "code",
   "execution_count": 33,
   "metadata": {
    "collapsed": false
   },
   "outputs": [
    {
     "name": "stdout",
     "output_type": "stream",
     "text": [
      "MyAmazingStrin\n",
      "MyAmazingStri\n",
      "MyAmazingStr\n"
     ]
    }
   ],
   "source": [
    "print(thing[:-1])\n",
    "print(thing[:-2])\n",
    "print(thing[:-3])\n"
   ]
  },
  {
   "cell_type": "code",
   "execution_count": 34,
   "metadata": {
    "collapsed": true
   },
   "outputs": [],
   "source": [
    "# Back to lists"
   ]
  },
  {
   "cell_type": "code",
   "execution_count": 42,
   "metadata": {
    "collapsed": false
   },
   "outputs": [
    {
     "name": "stdout",
     "output_type": "stream",
     "text": [
      "[1, 3, 5]\n",
      "[3, 5]\n",
      "[3, 5]\n"
     ]
    }
   ],
   "source": [
    "# Fill in the blanks \"_\"\n",
    "values = []\n",
    "values.append(1)\n",
    "values.append(3)\n",
    "values.append(5)\n",
    "print(values)\n",
    "\n",
    "values = values[1:3]\n",
    "print(values)\n",
    "values = [1, 3, 5]\n",
    "values = values[1:]\n",
    "print(values)\n"
   ]
  },
  {
   "cell_type": "markdown",
   "metadata": {},
   "source": [
    "Desired output\n",
    "\n",
    "[1,3,5]\n",
    "\n",
    "\n",
    "[3,5]"
   ]
  },
  {
   "cell_type": "code",
   "execution_count": 43,
   "metadata": {
    "collapsed": false
   },
   "outputs": [
    {
     "name": "stdout",
     "output_type": "stream",
     "text": [
      "string to list: ['t', 'i', 'n']\n",
      "list to string: gold\n"
     ]
    }
   ],
   "source": [
    "print('string to list:', list('tin'))\n",
    "print('list to string:', ''.join(['g', 'o', 'l', 'd']))"
   ]
  },
  {
   "cell_type": "code",
   "execution_count": 47,
   "metadata": {
    "collapsed": false
   },
   "outputs": [
    {
     "data": {
      "text/plain": [
       "'g-o-l-d'"
      ]
     },
     "execution_count": 47,
     "metadata": {},
     "output_type": "execute_result"
    }
   ],
   "source": [
    "# Please\n",
    "# Explain what just happened???\n",
    "# what does list('somestring') do?\n",
    "# What happens when you use \n",
    "'-'.join(['g', 'o', 'l', 'd'])"
   ]
  },
  {
   "cell_type": "markdown",
   "metadata": {},
   "source": [
    "# For loops"
   ]
  },
  {
   "cell_type": "code",
   "execution_count": 48,
   "metadata": {
    "collapsed": false
   },
   "outputs": [
    {
     "name": "stdout",
     "output_type": "stream",
     "text": [
      "1\n",
      "2\n",
      "3\n",
      "4\n",
      "5\n"
     ]
    }
   ],
   "source": [
    "for number in [1,2,3,4,5]:\n",
    "    print(number)"
   ]
  },
  {
   "cell_type": "code",
   "execution_count": 56,
   "metadata": {
    "collapsed": false
   },
   "outputs": [
    {
     "name": "stdout",
     "output_type": "stream",
     "text": [
      "1\n",
      "Hello\n",
      "2\n",
      "HelloHello\n",
      "3\n",
      "HelloHelloHello\n",
      "4\n",
      "HelloHelloHelloHello\n",
      "5\n",
      "HelloHelloHelloHelloHello\n"
     ]
    }
   ],
   "source": [
    "mylist = [1,2,3,4,5]\n",
    "for kitten in mylist:\n",
    "    print(kitten)\n",
    "    print(kitten * \"Hello\")"
   ]
  },
  {
   "cell_type": "code",
   "execution_count": 57,
   "metadata": {
    "collapsed": false
   },
   "outputs": [
    {
     "name": "stdout",
     "output_type": "stream",
     "text": [
      "[1, 2, 3, 4, 5]\n",
      "[1, 2, 3, 4, 5]\n"
     ]
    }
   ],
   "source": [
    "variable = 2\n",
    "mylist = [1,variable,3,4,5]\n",
    "print(mylist)\n",
    "variable = 1 \n",
    "print(mylist)"
   ]
  },
  {
   "cell_type": "code",
   "execution_count": 58,
   "metadata": {
    "collapsed": false
   },
   "outputs": [
    {
     "data": {
      "text/plain": [
       "range(0, 5)"
      ]
     },
     "execution_count": 58,
     "metadata": {},
     "output_type": "execute_result"
    }
   ],
   "source": [
    "range(5)"
   ]
  },
  {
   "cell_type": "code",
   "execution_count": 59,
   "metadata": {
    "collapsed": false
   },
   "outputs": [
    {
     "name": "stdout",
     "output_type": "stream",
     "text": [
      "0\n",
      "1\n",
      "2\n"
     ]
    }
   ],
   "source": [
    "for number in range(3):\n",
    "    print(number)"
   ]
  },
  {
   "cell_type": "code",
   "execution_count": 60,
   "metadata": {
    "collapsed": false
   },
   "outputs": [
    {
     "name": "stdout",
     "output_type": "stream",
     "text": [
      "1\n",
      "2\n",
      "3\n"
     ]
    }
   ],
   "source": [
    "for number in range(3):\n",
    "    print(number + 1)"
   ]
  },
  {
   "cell_type": "code",
   "execution_count": null,
   "metadata": {
    "collapsed": true
   },
   "outputs": [],
   "source": [
    "# Using an \"accumulator\" variable\n",
    "total = 0\n",
    "for number in range(10):\n",
    "    print(\"Time I'm running this loop:\", number)\n",
    "    total = total + number + 1\n",
    "    print(\"Value of total is\", total)\n",
    "print(\"After the loop is done\", total)"
   ]
  },
  {
   "cell_type": "code",
   "execution_count": 67,
   "metadata": {
    "collapsed": false
   },
   "outputs": [
    {
     "name": "stdout",
     "output_type": "stream",
     "text": [
      "Line Value\n",
      "1 t\n",
      "2 i\n",
      "3 n\n",
      "Value of total 3\n",
      "Value of char n\n"
     ]
    }
   ],
   "source": [
    "# Create a table showing the number of lines exeuted when this program runs, \n",
    "# and the values of variables after each line is executed\n",
    "total = 0\n",
    "print(\"Line\", \"Value\")\n",
    "for char in 'tin':\n",
    "    total = total + 1\n",
    "    print(total,char)\n",
    "print(\"Value of total\", total)\n",
    "print(\"Value of char\", char)\n",
    "    "
   ]
  },
  {
   "cell_type": "code",
   "execution_count": null,
   "metadata": {
    "collapsed": true
   },
   "outputs": [],
   "source": [
    "# Total length of the strings of a list: ['red', 'green', 'blue']\n",
    "# 12 \n",
    "# replace _ with something?\n",
    "total = 0\n",
    "for word in ['red', 'green', 'blue']:\n",
    "    _ = _ + len(word)\n",
    "print(total)"
   ]
  }
 ],
 "metadata": {
  "kernelspec": {
   "display_name": "Python 3",
   "language": "python",
   "name": "python3"
  },
  "language_info": {
   "codemirror_mode": {
    "name": "ipython",
    "version": 3
   },
   "file_extension": ".py",
   "mimetype": "text/x-python",
   "name": "python",
   "nbconvert_exporter": "python",
   "pygments_lexer": "ipython3",
   "version": "3.5.2"
  }
 },
 "nbformat": 4,
 "nbformat_minor": 0
}
